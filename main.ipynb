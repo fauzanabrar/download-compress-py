{
 "cells": [
  {
   "cell_type": "code",
   "execution_count": null,
   "id": "2124676e57036e4e",
   "metadata": {
    "ExecuteTime": {
     "end_time": "2023-12-23T03:24:55.546798900Z",
     "start_time": "2023-12-23T03:24:46.145891900Z"
    },
    "collapsed": false
   },
   "outputs": [],
   "source": [
    "!pip install --upgrade google-api-python-client google-auth-httplib2 google-auth-oauthlib\n",
    "!pip install yt_dlp\n",
    "!pip install ffmpeg\n",
    "!mkdir raw-video\n",
    "!mkdir compressed-video\n",
    "!mkdir log"
   ]
  },
  {
   "cell_type": "code",
   "execution_count": null,
   "id": "d84f5c67ade8e3d3",
   "metadata": {
    "ExecuteTime": {
     "end_time": "2023-12-23T03:24:56.650610700Z",
     "start_time": "2023-12-23T03:24:55.518158Z"
    },
    "collapsed": false
   },
   "outputs": [],
   "source": [
    "#@title Imports all libraries\n",
    "import os.path\n",
    "\n",
    "from google.auth.transport.requests import Request\n",
    "from google.oauth2.credentials import Credentials\n",
    "from google_auth_oauthlib.flow import InstalledAppFlow\n",
    "from googleapiclient.discovery import build\n",
    "from googleapiclient.errors import HttpError\n",
    "from google.oauth2 import service_account\n",
    "\n",
    "from googleapiclient.http import MediaFileUpload\n",
    "\n",
    "import yt_dlp\n",
    "import ffmpeg\n",
    "import subprocess\n",
    "import sys\n"
   ]
  },
  {
   "cell_type": "code",
   "execution_count": null,
   "id": "ec64970186459906",
   "metadata": {
    "ExecuteTime": {
     "end_time": "2023-12-23T03:24:56.663026100Z",
     "start_time": "2023-12-23T03:24:56.653931700Z"
    },
    "collapsed": false
   },
   "outputs": [],
   "source": [
    "#@title Config Authorize Google Drive API\n",
    "# If modifying these scopes, delete the file token.json.\n",
    "USE_SERVICE_ACCOUNT = False\n",
    "SCOPES = [\"https://www.googleapis.com/auth/drive\"]\n",
    "TOKEN_FILE = \"token.json\"\n",
    "CREDENTIALS_FILE = \"credentials.json\"\n",
    "FOLDER_ID = \"1-3y0hToO4S8KhoWzlrqcGwjOsBWOKvoX\""
   ]
  },
  {
   "cell_type": "code",
   "execution_count": null,
   "id": "54ec02b9a95026c2",
   "metadata": {
    "ExecuteTime": {
     "end_time": "2023-12-23T03:52:06.046741400Z",
     "start_time": "2023-12-23T03:51:54.788879400Z"
    },
    "collapsed": false
   },
   "outputs": [],
   "source": [
    "url = \"\"\n",
    "\n",
    "output_filename = ''\n",
    "\n",
    "# Specify the output path\n",
    "output_path = f'raw-video/'\n",
    "\n",
    "# Create YoutubeDL object with the desired options\n",
    "ydl_opts = {\n",
    "  'outtmpl': output_path + '%(title)s.%(ext)s',\n",
    "}\n",
    "\n",
    "def download_from_url(url):\n",
    "    info_dict = ydl.extract_info(url, download=True)\n",
    "    \n",
    "    # Extract the actual file name from the template\n",
    "    downloaded_file_name = info_dict['title'] + '.' + info_dict['ext']\n",
    "    \n",
    "    return downloaded_file_name\n",
    "\n",
    "with yt_dlp.YoutubeDL(ydl_opts) as ydl:\n",
    "    output_filename = download_from_url(url)\n",
    "    \n",
    "    print(output_filename)"
   ]
  },
  {
   "cell_type": "code",
   "execution_count": null,
   "id": "9a0aa206d5ce1ee5",
   "metadata": {
    "ExecuteTime": {
     "end_time": "2023-12-23T03:52:16.297323300Z",
     "start_time": "2023-12-23T03:52:12.745712500Z"
    },
    "collapsed": false
   },
   "outputs": [],
   "source": [
    "#@title Compress video\n",
    "input_file = f'raw-video/{output_filename}'\n",
    "output_file = f'compressed-video/{output_filename}'\n",
    "progress_file = f'log/{output_filename}.txt'\n",
    "\n",
    "# Set the desired video bitrate and quality (adjust as needed)\n",
    "video_bitrate = '1000k'  # 1000k is just an example, you can adjust based on your requirements\n",
    "video_quality = '31' # Range: 2 (best) - 31 (worst)\n",
    "resolution = {\n",
    "    '1080p':'1920:1080',\n",
    "    '720p':'720:480',\n",
    "    '480p':'640:480',\n",
    "    '360p':'480:360',\n",
    "    '240p':'426:240',\n",
    "    '144p':'256:144'\n",
    "} \n",
    "\n",
    "# FFmpeg command to compress the video using H.265 codec\n",
    "ffmpeg_cmd = f'ffmpeg -i {input_file} -vf scale={resolution[\"480p\"]} -b:v {video_bitrate} -vcodec libx265 -crf {video_quality} -preset veryfast -progress {progress_file} {output_file}'\n",
    "\n",
    "# Run the FFmpeg command\n",
    "subprocess.run(ffmpeg_cmd.split(), capture_output=True, text=True)\n"
   ]
  },
  {
   "cell_type": "code",
   "execution_count": null,
   "id": "c7013814907cd03e",
   "metadata": {
    "ExecuteTime": {
     "end_time": "2023-12-23T03:25:00.895942600Z",
     "start_time": "2023-12-23T03:25:00.847573Z"
    },
    "collapsed": false
   },
   "outputs": [],
   "source": [
    "#@title Authorize Google Drive API\n",
    "creds = None\n",
    "if USE_SERVICE_ACCOUNT:\n",
    "    creds = service_account.Credentials.from_service_account_file(\n",
    "        \"service_account.json\", scopes=SCOPES\n",
    "    )\n",
    "else:\n",
    "    if os.path.exists(TOKEN_FILE):\n",
    "        creds = Credentials.from_authorized_user_file(TOKEN_FILE, SCOPES)\n",
    "    if not creds or not creds.valid:\n",
    "        if creds and creds.expired and creds.refresh_token:\n",
    "            creds.refresh(Request())\n",
    "        else:\n",
    "            flow = InstalledAppFlow.from_client_secrets_file(CREDENTIALS_FILE, SCOPES)\n",
    "            creds = flow.run_local_server(port=0)\n",
    "        with open(TOKEN_FILE, \"w\") as token:\n",
    "            token.write(creds.to_json())\n",
    "service = build(\"drive\", \"v3\", credentials=creds)"
   ]
  },
  {
   "cell_type": "code",
   "execution_count": null,
   "id": "92a4d6c3b154e73d",
   "metadata": {
    "ExecuteTime": {
     "end_time": "2023-12-23T06:20:12.315352500Z",
     "start_time": "2023-12-23T06:20:11.535699300Z"
    },
    "collapsed": false
   },
   "outputs": [],
   "source": [
    "#@title List files\n",
    "try:\n",
    "    results = (\n",
    "        service.files()\n",
    "        .list(q=f\"'{FOLDER_ID}' in parents and trashed = false\", pageSize=10, fields=\"nextPageToken, files(id, name)\")\n",
    "        .execute()\n",
    "    )\n",
    "    items = results.get(\"files\", [])\n",
    "    if not items:\n",
    "        print(\"No files found.\")\n",
    "    else:\n",
    "        print(\"Files:\")\n",
    "        for item in items:\n",
    "            print(f\"{item['name']} ({item['id']})\")\n",
    "except HttpError as error:\n",
    "    print(f\"An error occurred: {error}\")"
   ]
  },
  {
   "cell_type": "code",
   "execution_count": null,
   "id": "3cb002d4d5b7ab3d",
   "metadata": {
    "ExecuteTime": {
     "end_time": "2023-12-23T03:25:02.963379400Z",
     "start_time": "2023-12-23T03:25:01.730473600Z"
    },
    "collapsed": false
   },
   "outputs": [],
   "source": [
    "#@title copy local video to google drive\n",
    "\n",
    "local_video_path = f'compressed-video/{output_filename}'\n",
    "file_metadata = {\"name\": output_filename, \"parents\": [FOLDER_ID]}\n",
    "media = MediaFileUpload(local_video_path, mimetype=\"video/mp4\")\n",
    "try:\n",
    "    pass\n",
    "    file = (\n",
    "        service.files()\n",
    "        .create(body=file_metadata, media_body=media, fields=\"id\")\n",
    "        .execute()\n",
    "    )\n",
    "\n",
    "    print(f\"File ID: {file.get('id')}\")\n",
    "except HttpError as error:\n",
    "    print(f\"An error occurred: {error}\")"
   ]
  }
 ],
 "metadata": {
  "kernelspec": {
   "display_name": "Python 3",
   "language": "python",
   "name": "python3"
  },
  "language_info": {
   "codemirror_mode": {
    "name": "ipython",
    "version": 3
   },
   "file_extension": ".py",
   "mimetype": "text/x-python",
   "name": "python",
   "nbconvert_exporter": "python",
   "pygments_lexer": "ipython3",
   "version": "3.12.1"
  }
 },
 "nbformat": 4,
 "nbformat_minor": 5
}
