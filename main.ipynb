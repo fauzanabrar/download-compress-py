{
 "cells": [
  {
   "cell_type": "code",
   "execution_count": 1,
   "id": "2124676e57036e4e",
   "metadata": {
    "ExecuteTime": {
     "end_time": "2023-12-23T03:24:55.546798900Z",
     "start_time": "2023-12-23T03:24:46.145891900Z"
    },
    "collapsed": false
   },
   "outputs": [
    {
     "name": "stdout",
     "output_type": "stream",
     "text": [
      "Requirement already satisfied: google-api-python-client in /usr/local/python/3.12.1/lib/python3.12/site-packages (2.167.0)\n",
      "Requirement already satisfied: google-auth-httplib2 in /usr/local/python/3.12.1/lib/python3.12/site-packages (0.2.0)\n",
      "Requirement already satisfied: google-auth-oauthlib in /usr/local/python/3.12.1/lib/python3.12/site-packages (1.2.1)\n",
      "Requirement already satisfied: httplib2<1.0.0,>=0.19.0 in /usr/local/python/3.12.1/lib/python3.12/site-packages (from google-api-python-client) (0.22.0)\n",
      "Requirement already satisfied: google-auth!=2.24.0,!=2.25.0,<3.0.0,>=1.32.0 in /usr/local/python/3.12.1/lib/python3.12/site-packages (from google-api-python-client) (2.39.0)\n",
      "Requirement already satisfied: google-api-core!=2.0.*,!=2.1.*,!=2.2.*,!=2.3.0,<3.0.0,>=1.31.5 in /usr/local/python/3.12.1/lib/python3.12/site-packages (from google-api-python-client) (2.24.2)\n",
      "Requirement already satisfied: uritemplate<5,>=3.0.1 in /usr/local/python/3.12.1/lib/python3.12/site-packages (from google-api-python-client) (4.1.1)\n",
      "Requirement already satisfied: requests-oauthlib>=0.7.0 in /usr/local/python/3.12.1/lib/python3.12/site-packages (from google-auth-oauthlib) (2.0.0)\n",
      "Requirement already satisfied: googleapis-common-protos<2.0.0,>=1.56.2 in /usr/local/python/3.12.1/lib/python3.12/site-packages (from google-api-core!=2.0.*,!=2.1.*,!=2.2.*,!=2.3.0,<3.0.0,>=1.31.5->google-api-python-client) (1.70.0)\n",
      "Requirement already satisfied: protobuf!=3.20.0,!=3.20.1,!=4.21.0,!=4.21.1,!=4.21.2,!=4.21.3,!=4.21.4,!=4.21.5,<7.0.0,>=3.19.5 in /usr/local/python/3.12.1/lib/python3.12/site-packages (from google-api-core!=2.0.*,!=2.1.*,!=2.2.*,!=2.3.0,<3.0.0,>=1.31.5->google-api-python-client) (5.29.4)\n",
      "Requirement already satisfied: proto-plus<2.0.0,>=1.22.3 in /usr/local/python/3.12.1/lib/python3.12/site-packages (from google-api-core!=2.0.*,!=2.1.*,!=2.2.*,!=2.3.0,<3.0.0,>=1.31.5->google-api-python-client) (1.26.1)\n",
      "Requirement already satisfied: requests<3.0.0,>=2.18.0 in /home/codespace/.local/lib/python3.12/site-packages (from google-api-core!=2.0.*,!=2.1.*,!=2.2.*,!=2.3.0,<3.0.0,>=1.31.5->google-api-python-client) (2.32.3)\n",
      "Requirement already satisfied: cachetools<6.0,>=2.0.0 in /usr/local/python/3.12.1/lib/python3.12/site-packages (from google-auth!=2.24.0,!=2.25.0,<3.0.0,>=1.32.0->google-api-python-client) (5.5.2)\n",
      "Requirement already satisfied: pyasn1-modules>=0.2.1 in /usr/local/python/3.12.1/lib/python3.12/site-packages (from google-auth!=2.24.0,!=2.25.0,<3.0.0,>=1.32.0->google-api-python-client) (0.4.2)\n",
      "Requirement already satisfied: rsa<5,>=3.1.4 in /usr/local/python/3.12.1/lib/python3.12/site-packages (from google-auth!=2.24.0,!=2.25.0,<3.0.0,>=1.32.0->google-api-python-client) (4.9)\n",
      "Requirement already satisfied: pyparsing!=3.0.0,!=3.0.1,!=3.0.2,!=3.0.3,<4,>=2.4.2 in /home/codespace/.local/lib/python3.12/site-packages (from httplib2<1.0.0,>=0.19.0->google-api-python-client) (3.2.1)\n",
      "Requirement already satisfied: oauthlib>=3.0.0 in /usr/local/python/3.12.1/lib/python3.12/site-packages (from requests-oauthlib>=0.7.0->google-auth-oauthlib) (3.2.2)\n",
      "Requirement already satisfied: pyasn1<0.7.0,>=0.6.1 in /usr/local/python/3.12.1/lib/python3.12/site-packages (from pyasn1-modules>=0.2.1->google-auth!=2.24.0,!=2.25.0,<3.0.0,>=1.32.0->google-api-python-client) (0.6.1)\n",
      "Requirement already satisfied: charset-normalizer<4,>=2 in /home/codespace/.local/lib/python3.12/site-packages (from requests<3.0.0,>=2.18.0->google-api-core!=2.0.*,!=2.1.*,!=2.2.*,!=2.3.0,<3.0.0,>=1.31.5->google-api-python-client) (3.4.1)\n",
      "Requirement already satisfied: idna<4,>=2.5 in /home/codespace/.local/lib/python3.12/site-packages (from requests<3.0.0,>=2.18.0->google-api-core!=2.0.*,!=2.1.*,!=2.2.*,!=2.3.0,<3.0.0,>=1.31.5->google-api-python-client) (3.10)\n",
      "Requirement already satisfied: urllib3<3,>=1.21.1 in /home/codespace/.local/lib/python3.12/site-packages (from requests<3.0.0,>=2.18.0->google-api-core!=2.0.*,!=2.1.*,!=2.2.*,!=2.3.0,<3.0.0,>=1.31.5->google-api-python-client) (2.3.0)\n",
      "Requirement already satisfied: certifi>=2017.4.17 in /home/codespace/.local/lib/python3.12/site-packages (from requests<3.0.0,>=2.18.0->google-api-core!=2.0.*,!=2.1.*,!=2.2.*,!=2.3.0,<3.0.0,>=1.31.5->google-api-python-client) (2025.1.31)\n",
      "Requirement already satisfied: yt_dlp in /usr/local/python/3.12.1/lib/python3.12/site-packages (2025.3.31)\n",
      "Requirement already satisfied: ffmpeg in /usr/local/python/3.12.1/lib/python3.12/site-packages (1.4)\n",
      "mkdir: cannot create directory ‘raw-video’: File exists\n",
      "mkdir: cannot create directory ‘compressed-video’: File exists\n",
      "mkdir: cannot create directory ‘log’: File exists\n"
     ]
    }
   ],
   "source": [
    "!pip install --upgrade google-api-python-client google-auth-httplib2 google-auth-oauthlib\n",
    "!pip install yt_dlp\n",
    "!pip install ffmpeg\n",
    "!mkdir raw-video\n",
    "!mkdir compressed-video\n",
    "!mkdir log"
   ]
  },
  {
   "cell_type": "code",
   "execution_count": 2,
   "id": "d84f5c67ade8e3d3",
   "metadata": {
    "ExecuteTime": {
     "end_time": "2023-12-23T03:24:56.650610700Z",
     "start_time": "2023-12-23T03:24:55.518158Z"
    },
    "collapsed": false
   },
   "outputs": [],
   "source": [
    "#@title Imports all libraries\n",
    "import os.path\n",
    "\n",
    "from google.auth.transport.requests import Request\n",
    "from google.oauth2.credentials import Credentials\n",
    "from google_auth_oauthlib.flow import InstalledAppFlow\n",
    "from googleapiclient.discovery import build\n",
    "from googleapiclient.errors import HttpError\n",
    "from google.oauth2 import service_account\n",
    "\n",
    "from googleapiclient.http import MediaFileUpload\n",
    "\n",
    "import yt_dlp\n",
    "import ffmpeg\n",
    "import subprocess\n",
    "import sys\n"
   ]
  },
  {
   "cell_type": "code",
   "execution_count": 3,
   "id": "ec64970186459906",
   "metadata": {
    "ExecuteTime": {
     "end_time": "2023-12-23T03:24:56.663026100Z",
     "start_time": "2023-12-23T03:24:56.653931700Z"
    },
    "collapsed": false
   },
   "outputs": [],
   "source": [
    "#@title Config Authorize Google Drive API\n",
    "# If modifying these scopes, delete the file token.json.\n",
    "USE_SERVICE_ACCOUNT = False\n",
    "SCOPES = [\"https://www.googleapis.com/auth/drive\"]\n",
    "TOKEN_FILE = \"token.json\"\n",
    "CREDENTIALS_FILE = \"credentials.json\"\n",
    "FOLDER_ID = \"1-3y0hToO4S8KhoWzlrqcGwjOsBWOKvoX\""
   ]
  },
  {
   "cell_type": "code",
   "execution_count": 4,
   "id": "36cdd566f7f3d259",
   "metadata": {
    "ExecuteTime": {
     "end_time": "2023-12-23T03:51:53.114368400Z",
     "start_time": "2023-12-23T03:51:53.088990700Z"
    },
    "collapsed": false
   },
   "outputs": [],
   "source": [
    "url = \"https://jrjr7jgjnmnz.cdn-centaurus.com/v/01/00096/zn4yg8o3ypqw_o/SSPD-101_javhd_today.mp4?t=TiYiagTjPWDLLyf7tc6Fjzu9If1-9MPIeiB0rSYcLzI&amp;s=1744826855&amp;e=129600&amp;f=11739256&amp;sp=400&amp;i=0.0\""
   ]
  },
  {
   "cell_type": "code",
   "execution_count": 5,
   "id": "54ec02b9a95026c2",
   "metadata": {
    "ExecuteTime": {
     "end_time": "2023-12-23T03:52:06.046741400Z",
     "start_time": "2023-12-23T03:51:54.788879400Z"
    },
    "collapsed": false
   },
   "outputs": [
    {
     "name": "stdout",
     "output_type": "stream",
     "text": [
      "[generic] Extracting URL: https://jrjr7jgjnmnz.cdn-centaurus.com/v/01/00096/zn4yg8o3ypqw_o/SSPD-101_javhd_today.mp4?t=TiYia...amp;sp=400&amp;i=0.0\n",
      "[generic] SSPD-101_javhd_today.mp4?t=TiYiagTjPWDLLyf7tc6Fjzu9If1-9MPIeiB0rSYcLzI&amp;s=1744826855&amp;e=129600&amp;f=11739256&amp;sp=400&amp;i=0: Downloading webpage\n"
     ]
    },
    {
     "name": "stderr",
     "output_type": "stream",
     "text": [
      "ERROR: [generic] Unable to download webpage: HTTP Error 403: Forbidden (caused by <HTTPError 403: Forbidden>)\n"
     ]
    },
    {
     "ename": "DownloadError",
     "evalue": "ERROR: [generic] Unable to download webpage: HTTP Error 403: Forbidden (caused by <HTTPError 403: Forbidden>)",
     "output_type": "error",
     "traceback": [
      "\u001b[31m---------------------------------------------------------------------------\u001b[39m",
      "\u001b[31mHTTPError\u001b[39m                                 Traceback (most recent call last)",
      "\u001b[36mFile \u001b[39m\u001b[32m/usr/local/python/3.12.1/lib/python3.12/site-packages/yt_dlp/extractor/common.py:904\u001b[39m, in \u001b[36mInfoExtractor._request_webpage\u001b[39m\u001b[34m(self, url_or_request, video_id, note, errnote, fatal, data, headers, query, expected_status, impersonate, require_impersonation)\u001b[39m\n\u001b[32m    903\u001b[39m \u001b[38;5;28;01mtry\u001b[39;00m:\n\u001b[32m--> \u001b[39m\u001b[32m904\u001b[39m     \u001b[38;5;28;01mreturn\u001b[39;00m \u001b[38;5;28;43mself\u001b[39;49m\u001b[43m.\u001b[49m\u001b[43m_downloader\u001b[49m\u001b[43m.\u001b[49m\u001b[43murlopen\u001b[49m\u001b[43m(\u001b[49m\u001b[38;5;28;43mself\u001b[39;49m\u001b[43m.\u001b[49m\u001b[43m_create_request\u001b[49m\u001b[43m(\u001b[49m\u001b[43murl_or_request\u001b[49m\u001b[43m,\u001b[49m\u001b[43m \u001b[49m\u001b[43mdata\u001b[49m\u001b[43m,\u001b[49m\u001b[43m \u001b[49m\u001b[43mheaders\u001b[49m\u001b[43m,\u001b[49m\u001b[43m \u001b[49m\u001b[43mquery\u001b[49m\u001b[43m,\u001b[49m\u001b[43m \u001b[49m\u001b[43mextensions\u001b[49m\u001b[43m)\u001b[49m\u001b[43m)\u001b[49m\n\u001b[32m    905\u001b[39m \u001b[38;5;28;01mexcept\u001b[39;00m network_exceptions \u001b[38;5;28;01mas\u001b[39;00m err:\n",
      "\u001b[36mFile \u001b[39m\u001b[32m/usr/local/python/3.12.1/lib/python3.12/site-packages/yt_dlp/YoutubeDL.py:4186\u001b[39m, in \u001b[36mYoutubeDL.urlopen\u001b[39m\u001b[34m(self, req)\u001b[39m\n\u001b[32m   4185\u001b[39m \u001b[38;5;28;01mtry\u001b[39;00m:\n\u001b[32m-> \u001b[39m\u001b[32m4186\u001b[39m     \u001b[38;5;28;01mreturn\u001b[39;00m \u001b[38;5;28;43mself\u001b[39;49m\u001b[43m.\u001b[49m\u001b[43m_request_director\u001b[49m\u001b[43m.\u001b[49m\u001b[43msend\u001b[49m\u001b[43m(\u001b[49m\u001b[43mreq\u001b[49m\u001b[43m)\u001b[49m\n\u001b[32m   4187\u001b[39m \u001b[38;5;28;01mexcept\u001b[39;00m NoSupportingHandlers \u001b[38;5;28;01mas\u001b[39;00m e:\n",
      "\u001b[36mFile \u001b[39m\u001b[32m/usr/local/python/3.12.1/lib/python3.12/site-packages/yt_dlp/networking/common.py:117\u001b[39m, in \u001b[36mRequestDirector.send\u001b[39m\u001b[34m(self, request)\u001b[39m\n\u001b[32m    116\u001b[39m \u001b[38;5;28;01mtry\u001b[39;00m:\n\u001b[32m--> \u001b[39m\u001b[32m117\u001b[39m     response = \u001b[43mhandler\u001b[49m\u001b[43m.\u001b[49m\u001b[43msend\u001b[49m\u001b[43m(\u001b[49m\u001b[43mrequest\u001b[49m\u001b[43m)\u001b[49m\n\u001b[32m    118\u001b[39m \u001b[38;5;28;01mexcept\u001b[39;00m RequestError:\n",
      "\u001b[36mFile \u001b[39m\u001b[32m/usr/local/python/3.12.1/lib/python3.12/site-packages/yt_dlp/networking/_helper.py:208\u001b[39m, in \u001b[36mwrap_request_errors.<locals>.wrapper\u001b[39m\u001b[34m(self, *args, **kwargs)\u001b[39m\n\u001b[32m    207\u001b[39m \u001b[38;5;28;01mtry\u001b[39;00m:\n\u001b[32m--> \u001b[39m\u001b[32m208\u001b[39m     \u001b[38;5;28;01mreturn\u001b[39;00m \u001b[43mfunc\u001b[49m\u001b[43m(\u001b[49m\u001b[38;5;28;43mself\u001b[39;49m\u001b[43m,\u001b[49m\u001b[43m \u001b[49m\u001b[43m*\u001b[49m\u001b[43margs\u001b[49m\u001b[43m,\u001b[49m\u001b[43m \u001b[49m\u001b[43m*\u001b[49m\u001b[43m*\u001b[49m\u001b[43mkwargs\u001b[49m\u001b[43m)\u001b[49m\n\u001b[32m    209\u001b[39m \u001b[38;5;28;01mexcept\u001b[39;00m RequestError \u001b[38;5;28;01mas\u001b[39;00m e:\n",
      "\u001b[36mFile \u001b[39m\u001b[32m/usr/local/python/3.12.1/lib/python3.12/site-packages/yt_dlp/networking/common.py:359\u001b[39m, in \u001b[36mRequestHandler.send\u001b[39m\u001b[34m(self, request)\u001b[39m\n\u001b[32m    358\u001b[39m     \u001b[38;5;28;01mraise\u001b[39;00m \u001b[38;5;167;01mTypeError\u001b[39;00m(\u001b[33m'\u001b[39m\u001b[33mExpected an instance of Request\u001b[39m\u001b[33m'\u001b[39m)\n\u001b[32m--> \u001b[39m\u001b[32m359\u001b[39m \u001b[38;5;28;01mreturn\u001b[39;00m \u001b[38;5;28;43mself\u001b[39;49m\u001b[43m.\u001b[49m\u001b[43m_send\u001b[49m\u001b[43m(\u001b[49m\u001b[43mrequest\u001b[49m\u001b[43m)\u001b[49m\n",
      "\u001b[36mFile \u001b[39m\u001b[32m/usr/local/python/3.12.1/lib/python3.12/site-packages/yt_dlp/networking/_requests.py:369\u001b[39m, in \u001b[36mRequestsRH._send\u001b[39m\u001b[34m(self, request)\u001b[39m\n\u001b[32m    368\u001b[39m \u001b[38;5;28;01mif\u001b[39;00m \u001b[38;5;129;01mnot\u001b[39;00m \u001b[32m200\u001b[39m <= res.status < \u001b[32m300\u001b[39m:\n\u001b[32m--> \u001b[39m\u001b[32m369\u001b[39m     \u001b[38;5;28;01mraise\u001b[39;00m HTTPError(res, redirect_loop=max_redirects_exceeded)\n\u001b[32m    371\u001b[39m \u001b[38;5;28;01mreturn\u001b[39;00m res\n",
      "\u001b[31mHTTPError\u001b[39m: HTTP Error 403: Forbidden",
      "\nDuring handling of the above exception, another exception occurred:\n",
      "\u001b[31mExtractorError\u001b[39m                            Traceback (most recent call last)",
      "\u001b[36mFile \u001b[39m\u001b[32m/usr/local/python/3.12.1/lib/python3.12/site-packages/yt_dlp/YoutubeDL.py:1653\u001b[39m, in \u001b[36mYoutubeDL._handle_extraction_exceptions.<locals>.wrapper\u001b[39m\u001b[34m(self, *args, **kwargs)\u001b[39m\n\u001b[32m   1652\u001b[39m \u001b[38;5;28;01mtry\u001b[39;00m:\n\u001b[32m-> \u001b[39m\u001b[32m1653\u001b[39m     \u001b[38;5;28;01mreturn\u001b[39;00m \u001b[43mfunc\u001b[49m\u001b[43m(\u001b[49m\u001b[38;5;28;43mself\u001b[39;49m\u001b[43m,\u001b[49m\u001b[43m \u001b[49m\u001b[43m*\u001b[49m\u001b[43margs\u001b[49m\u001b[43m,\u001b[49m\u001b[43m \u001b[49m\u001b[43m*\u001b[49m\u001b[43m*\u001b[49m\u001b[43mkwargs\u001b[49m\u001b[43m)\u001b[49m\n\u001b[32m   1654\u001b[39m \u001b[38;5;28;01mexcept\u001b[39;00m (CookieLoadError, DownloadCancelled, LazyList.IndexError, PagedList.IndexError):\n",
      "\u001b[36mFile \u001b[39m\u001b[32m/usr/local/python/3.12.1/lib/python3.12/site-packages/yt_dlp/YoutubeDL.py:1788\u001b[39m, in \u001b[36mYoutubeDL.__extract_info\u001b[39m\u001b[34m(self, url, ie, download, extra_info, process)\u001b[39m\n\u001b[32m   1787\u001b[39m \u001b[38;5;28;01mtry\u001b[39;00m:\n\u001b[32m-> \u001b[39m\u001b[32m1788\u001b[39m     ie_result = \u001b[43mie\u001b[49m\u001b[43m.\u001b[49m\u001b[43mextract\u001b[49m\u001b[43m(\u001b[49m\u001b[43murl\u001b[49m\u001b[43m)\u001b[49m\n\u001b[32m   1789\u001b[39m \u001b[38;5;28;01mexcept\u001b[39;00m UserNotLive \u001b[38;5;28;01mas\u001b[39;00m e:\n",
      "\u001b[36mFile \u001b[39m\u001b[32m/usr/local/python/3.12.1/lib/python3.12/site-packages/yt_dlp/extractor/common.py:748\u001b[39m, in \u001b[36mInfoExtractor.extract\u001b[39m\u001b[34m(self, url)\u001b[39m\n\u001b[32m    746\u001b[39m \u001b[38;5;28mself\u001b[39m.to_screen(\u001b[33m'\u001b[39m\u001b[33mExtracting URL: \u001b[39m\u001b[38;5;132;01m%s\u001b[39;00m\u001b[33m'\u001b[39m % (\n\u001b[32m    747\u001b[39m     url \u001b[38;5;28;01mif\u001b[39;00m \u001b[38;5;28mself\u001b[39m.get_param(\u001b[33m'\u001b[39m\u001b[33mverbose\u001b[39m\u001b[33m'\u001b[39m) \u001b[38;5;28;01melse\u001b[39;00m truncate_string(url, \u001b[32m100\u001b[39m, \u001b[32m20\u001b[39m)))\n\u001b[32m--> \u001b[39m\u001b[32m748\u001b[39m ie_result = \u001b[38;5;28;43mself\u001b[39;49m\u001b[43m.\u001b[49m\u001b[43m_real_extract\u001b[49m\u001b[43m(\u001b[49m\u001b[43murl\u001b[49m\u001b[43m)\u001b[49m\n\u001b[32m    749\u001b[39m \u001b[38;5;28;01mif\u001b[39;00m ie_result \u001b[38;5;129;01mis\u001b[39;00m \u001b[38;5;28;01mNone\u001b[39;00m:\n",
      "\u001b[36mFile \u001b[39m\u001b[32m/usr/local/python/3.12.1/lib/python3.12/site-packages/yt_dlp/extractor/generic.py:2418\u001b[39m, in \u001b[36mGenericIE._real_extract\u001b[39m\u001b[34m(self, url)\u001b[39m\n\u001b[32m   2417\u001b[39m \u001b[38;5;28;01mtry\u001b[39;00m:\n\u001b[32m-> \u001b[39m\u001b[32m2418\u001b[39m     full_response = \u001b[38;5;28;43mself\u001b[39;49m\u001b[43m.\u001b[49m\u001b[43m_request_webpage\u001b[49m\u001b[43m(\u001b[49m\u001b[43murl\u001b[49m\u001b[43m,\u001b[49m\u001b[43m \u001b[49m\u001b[43mvideo_id\u001b[49m\u001b[43m,\u001b[49m\u001b[43m \u001b[49m\u001b[43mheaders\u001b[49m\u001b[43m=\u001b[49m\u001b[43mfilter_dict\u001b[49m\u001b[43m(\u001b[49m\u001b[43m{\u001b[49m\n\u001b[32m   2419\u001b[39m \u001b[43m        \u001b[49m\u001b[33;43m'\u001b[39;49m\u001b[33;43mAccept-Encoding\u001b[39;49m\u001b[33;43m'\u001b[39;49m\u001b[43m:\u001b[49m\u001b[43m \u001b[49m\u001b[33;43m'\u001b[39;49m\u001b[33;43midentity\u001b[39;49m\u001b[33;43m'\u001b[39;49m\u001b[43m,\u001b[49m\n\u001b[32m   2420\u001b[39m \u001b[43m        \u001b[49m\u001b[33;43m'\u001b[39;49m\u001b[33;43mReferer\u001b[39;49m\u001b[33;43m'\u001b[39;49m\u001b[43m:\u001b[49m\u001b[43m \u001b[49m\u001b[43msmuggled_data\u001b[49m\u001b[43m.\u001b[49m\u001b[43mget\u001b[49m\u001b[43m(\u001b[49m\u001b[33;43m'\u001b[39;49m\u001b[33;43mreferer\u001b[39;49m\u001b[33;43m'\u001b[39;49m\u001b[43m)\u001b[49m\u001b[43m,\u001b[49m\n\u001b[32m   2421\u001b[39m \u001b[43m    \u001b[49m\u001b[43m}\u001b[49m\u001b[43m)\u001b[49m\u001b[43m,\u001b[49m\u001b[43m \u001b[49m\u001b[43mimpersonate\u001b[49m\u001b[43m=\u001b[49m\u001b[43mimpersonate\u001b[49m\u001b[43m)\u001b[49m\n\u001b[32m   2422\u001b[39m \u001b[38;5;28;01mexcept\u001b[39;00m ExtractorError \u001b[38;5;28;01mas\u001b[39;00m e:\n",
      "\u001b[36mFile \u001b[39m\u001b[32m/usr/local/python/3.12.1/lib/python3.12/site-packages/yt_dlp/extractor/common.py:917\u001b[39m, in \u001b[36mInfoExtractor._request_webpage\u001b[39m\u001b[34m(self, url_or_request, video_id, note, errnote, fatal, data, headers, query, expected_status, impersonate, require_impersonation)\u001b[39m\n\u001b[32m    916\u001b[39m \u001b[38;5;28;01mif\u001b[39;00m fatal:\n\u001b[32m--> \u001b[39m\u001b[32m917\u001b[39m     \u001b[38;5;28;01mraise\u001b[39;00m ExtractorError(errmsg, cause=err)\n\u001b[32m    918\u001b[39m \u001b[38;5;28;01melse\u001b[39;00m:\n",
      "\u001b[31mExtractorError\u001b[39m: [generic] Unable to download webpage: HTTP Error 403: Forbidden (caused by <HTTPError 403: Forbidden>)",
      "\nDuring handling of the above exception, another exception occurred:\n",
      "\u001b[31mDownloadError\u001b[39m                             Traceback (most recent call last)",
      "\u001b[36mCell\u001b[39m\u001b[36m \u001b[39m\u001b[32mIn[5]\u001b[39m\u001b[32m, line 20\u001b[39m\n\u001b[32m     17\u001b[39m     \u001b[38;5;28;01mreturn\u001b[39;00m downloaded_file_name\n\u001b[32m     19\u001b[39m \u001b[38;5;28;01mwith\u001b[39;00m yt_dlp.YoutubeDL(ydl_opts) \u001b[38;5;28;01mas\u001b[39;00m ydl:\n\u001b[32m---> \u001b[39m\u001b[32m20\u001b[39m     output_filename = \u001b[43mdownload_from_url\u001b[49m\u001b[43m(\u001b[49m\u001b[43murl\u001b[49m\u001b[43m)\u001b[49m\n\u001b[32m     22\u001b[39m     \u001b[38;5;28mprint\u001b[39m(output_filename)\n",
      "\u001b[36mCell\u001b[39m\u001b[36m \u001b[39m\u001b[32mIn[5]\u001b[39m\u001b[32m, line 12\u001b[39m, in \u001b[36mdownload_from_url\u001b[39m\u001b[34m(url)\u001b[39m\n\u001b[32m     11\u001b[39m \u001b[38;5;28;01mdef\u001b[39;00m\u001b[38;5;250m \u001b[39m\u001b[34mdownload_from_url\u001b[39m(url):\n\u001b[32m---> \u001b[39m\u001b[32m12\u001b[39m     info_dict = \u001b[43mydl\u001b[49m\u001b[43m.\u001b[49m\u001b[43mextract_info\u001b[49m\u001b[43m(\u001b[49m\u001b[43murl\u001b[49m\u001b[43m,\u001b[49m\u001b[43m \u001b[49m\u001b[43mdownload\u001b[49m\u001b[43m=\u001b[49m\u001b[38;5;28;43;01mTrue\u001b[39;49;00m\u001b[43m)\u001b[49m\n\u001b[32m     14\u001b[39m     \u001b[38;5;66;03m# Extract the actual file name from the template\u001b[39;00m\n\u001b[32m     15\u001b[39m     downloaded_file_name = info_dict[\u001b[33m'\u001b[39m\u001b[33mtitle\u001b[39m\u001b[33m'\u001b[39m] + \u001b[33m'\u001b[39m\u001b[33m.\u001b[39m\u001b[33m'\u001b[39m + info_dict[\u001b[33m'\u001b[39m\u001b[33mext\u001b[39m\u001b[33m'\u001b[39m]\n",
      "\u001b[36mFile \u001b[39m\u001b[32m/usr/local/python/3.12.1/lib/python3.12/site-packages/yt_dlp/YoutubeDL.py:1642\u001b[39m, in \u001b[36mYoutubeDL.extract_info\u001b[39m\u001b[34m(self, url, download, ie_key, extra_info, process, force_generic_extractor)\u001b[39m\n\u001b[32m   1640\u001b[39m             \u001b[38;5;28;01mraise\u001b[39;00m ExistingVideoReached\n\u001b[32m   1641\u001b[39m         \u001b[38;5;28;01mbreak\u001b[39;00m\n\u001b[32m-> \u001b[39m\u001b[32m1642\u001b[39m     \u001b[38;5;28;01mreturn\u001b[39;00m \u001b[38;5;28;43mself\u001b[39;49m\u001b[43m.\u001b[49m\u001b[43m__extract_info\u001b[49m\u001b[43m(\u001b[49m\u001b[43murl\u001b[49m\u001b[43m,\u001b[49m\u001b[43m \u001b[49m\u001b[38;5;28;43mself\u001b[39;49m\u001b[43m.\u001b[49m\u001b[43mget_info_extractor\u001b[49m\u001b[43m(\u001b[49m\u001b[43mkey\u001b[49m\u001b[43m)\u001b[49m\u001b[43m,\u001b[49m\u001b[43m \u001b[49m\u001b[43mdownload\u001b[49m\u001b[43m,\u001b[49m\u001b[43m \u001b[49m\u001b[43mextra_info\u001b[49m\u001b[43m,\u001b[49m\u001b[43m \u001b[49m\u001b[43mprocess\u001b[49m\u001b[43m)\u001b[49m\n\u001b[32m   1643\u001b[39m \u001b[38;5;28;01melse\u001b[39;00m:\n\u001b[32m   1644\u001b[39m     extractors_restricted = \u001b[38;5;28mself\u001b[39m.params.get(\u001b[33m'\u001b[39m\u001b[33mallowed_extractors\u001b[39m\u001b[33m'\u001b[39m) \u001b[38;5;129;01mnot\u001b[39;00m \u001b[38;5;129;01min\u001b[39;00m (\u001b[38;5;28;01mNone\u001b[39;00m, [\u001b[33m'\u001b[39m\u001b[33mdefault\u001b[39m\u001b[33m'\u001b[39m])\n",
      "\u001b[36mFile \u001b[39m\u001b[32m/usr/local/python/3.12.1/lib/python3.12/site-packages/yt_dlp/YoutubeDL.py:1671\u001b[39m, in \u001b[36mYoutubeDL._handle_extraction_exceptions.<locals>.wrapper\u001b[39m\u001b[34m(self, *args, **kwargs)\u001b[39m\n\u001b[32m   1669\u001b[39m     \u001b[38;5;28mself\u001b[39m.report_error(msg)\n\u001b[32m   1670\u001b[39m \u001b[38;5;28;01mexcept\u001b[39;00m ExtractorError \u001b[38;5;28;01mas\u001b[39;00m e:  \u001b[38;5;66;03m# An error we somewhat expected\u001b[39;00m\n\u001b[32m-> \u001b[39m\u001b[32m1671\u001b[39m     \u001b[38;5;28;43mself\u001b[39;49m\u001b[43m.\u001b[49m\u001b[43mreport_error\u001b[49m\u001b[43m(\u001b[49m\u001b[38;5;28;43mstr\u001b[39;49m\u001b[43m(\u001b[49m\u001b[43me\u001b[49m\u001b[43m)\u001b[49m\u001b[43m,\u001b[49m\u001b[43m \u001b[49m\u001b[43me\u001b[49m\u001b[43m.\u001b[49m\u001b[43mformat_traceback\u001b[49m\u001b[43m(\u001b[49m\u001b[43m)\u001b[49m\u001b[43m)\u001b[49m\n\u001b[32m   1672\u001b[39m \u001b[38;5;28;01mexcept\u001b[39;00m \u001b[38;5;167;01mException\u001b[39;00m \u001b[38;5;28;01mas\u001b[39;00m e:\n\u001b[32m   1673\u001b[39m     \u001b[38;5;28;01mif\u001b[39;00m \u001b[38;5;28mself\u001b[39m.params.get(\u001b[33m'\u001b[39m\u001b[33mignoreerrors\u001b[39m\u001b[33m'\u001b[39m):\n",
      "\u001b[36mFile \u001b[39m\u001b[32m/usr/local/python/3.12.1/lib/python3.12/site-packages/yt_dlp/YoutubeDL.py:1111\u001b[39m, in \u001b[36mYoutubeDL.report_error\u001b[39m\u001b[34m(self, message, *args, **kwargs)\u001b[39m\n\u001b[32m   1106\u001b[39m \u001b[38;5;28;01mdef\u001b[39;00m\u001b[38;5;250m \u001b[39m\u001b[34mreport_error\u001b[39m(\u001b[38;5;28mself\u001b[39m, message, *args, **kwargs):\n\u001b[32m   1107\u001b[39m \u001b[38;5;250m    \u001b[39m\u001b[33;03m\"\"\"\u001b[39;00m\n\u001b[32m   1108\u001b[39m \u001b[33;03m    Do the same as trouble, but prefixes the message with 'ERROR:', colored\u001b[39;00m\n\u001b[32m   1109\u001b[39m \u001b[33;03m    in red if stderr is a tty file.\u001b[39;00m\n\u001b[32m   1110\u001b[39m \u001b[33;03m    \"\"\"\u001b[39;00m\n\u001b[32m-> \u001b[39m\u001b[32m1111\u001b[39m     \u001b[38;5;28;43mself\u001b[39;49m\u001b[43m.\u001b[49m\u001b[43mtrouble\u001b[49m\u001b[43m(\u001b[49m\u001b[33;43mf\u001b[39;49m\u001b[33;43m'\u001b[39;49m\u001b[38;5;132;43;01m{\u001b[39;49;00m\u001b[38;5;28;43mself\u001b[39;49m\u001b[43m.\u001b[49m\u001b[43m_format_err\u001b[49m\u001b[43m(\u001b[49m\u001b[33;43m\"\u001b[39;49m\u001b[33;43mERROR:\u001b[39;49m\u001b[33;43m\"\u001b[39;49m\u001b[43m,\u001b[49m\u001b[38;5;250;43m \u001b[39;49m\u001b[38;5;28;43mself\u001b[39;49m\u001b[43m.\u001b[49m\u001b[43mStyles\u001b[49m\u001b[43m.\u001b[49m\u001b[43mERROR\u001b[49m\u001b[43m)\u001b[49m\u001b[38;5;132;43;01m}\u001b[39;49;00m\u001b[33;43m \u001b[39;49m\u001b[38;5;132;43;01m{\u001b[39;49;00m\u001b[43mmessage\u001b[49m\u001b[38;5;132;43;01m}\u001b[39;49;00m\u001b[33;43m'\u001b[39;49m\u001b[43m,\u001b[49m\u001b[43m \u001b[49m\u001b[43m*\u001b[49m\u001b[43margs\u001b[49m\u001b[43m,\u001b[49m\u001b[43m \u001b[49m\u001b[43m*\u001b[49m\u001b[43m*\u001b[49m\u001b[43mkwargs\u001b[49m\u001b[43m)\u001b[49m\n",
      "\u001b[36mFile \u001b[39m\u001b[32m/usr/local/python/3.12.1/lib/python3.12/site-packages/yt_dlp/YoutubeDL.py:1050\u001b[39m, in \u001b[36mYoutubeDL.trouble\u001b[39m\u001b[34m(self, message, tb, is_error)\u001b[39m\n\u001b[32m   1048\u001b[39m     \u001b[38;5;28;01melse\u001b[39;00m:\n\u001b[32m   1049\u001b[39m         exc_info = sys.exc_info()\n\u001b[32m-> \u001b[39m\u001b[32m1050\u001b[39m     \u001b[38;5;28;01mraise\u001b[39;00m DownloadError(message, exc_info)\n\u001b[32m   1051\u001b[39m \u001b[38;5;28mself\u001b[39m._download_retcode = \u001b[32m1\u001b[39m\n",
      "\u001b[31mDownloadError\u001b[39m: ERROR: [generic] Unable to download webpage: HTTP Error 403: Forbidden (caused by <HTTPError 403: Forbidden>)"
     ]
    }
   ],
   "source": [
    "output_filename = 'SSPD-101'\n",
    "\n",
    "# Specify the output path\n",
    "output_path = f'raw-video/'\n",
    "\n",
    "# Create YoutubeDL object with the desired options\n",
    "ydl_opts = {\n",
    "  'outtmpl': output_path + '%(title)s.%(ext)s',\n",
    "}\n",
    "\n",
    "def download_from_url(url):\n",
    "    info_dict = ydl.extract_info(url, download=True)\n",
    "    \n",
    "    # Extract the actual file name from the template\n",
    "    downloaded_file_name = info_dict['title'] + '.' + info_dict['ext']\n",
    "    \n",
    "    return downloaded_file_name\n",
    "\n",
    "with yt_dlp.YoutubeDL(ydl_opts) as ydl:\n",
    "    output_filename = download_from_url(url)\n",
    "    \n",
    "    print(output_filename)"
   ]
  },
  {
   "cell_type": "code",
   "execution_count": 34,
   "id": "9a0aa206d5ce1ee5",
   "metadata": {
    "ExecuteTime": {
     "end_time": "2023-12-23T03:52:16.297323300Z",
     "start_time": "2023-12-23T03:52:12.745712500Z"
    },
    "collapsed": false
   },
   "outputs": [
    {
     "data": {
      "text/plain": [
       "CompletedProcess(args=['ffmpeg', '-i', 'raw-video/Free_Test_Data_15MB_MP4.mp4.mp4', '-vf', 'scale=640:480', '-b:v', '1000k', '-vcodec', 'libx265', '-crf', '31', '-preset', 'veryfast', '-progress', 'log/Free_Test_Data_15MB_MP4.mp4.mp4.txt', 'compressed-video/Free_Test_Data_15MB_MP4.mp4.mp4'], returncode=0, stdout='', stderr='ffmpeg version 6.1-essentials_build-www.gyan.dev Copyright (c) 2000-2023 the FFmpeg developers\\n  built with gcc 12.2.0 (Rev10, Built by MSYS2 project)\\n  configuration: --enable-gpl --enable-version3 --enable-static --pkg-config=pkgconf --disable-w32threads --disable-autodetect --enable-fontconfig --enable-iconv --enable-gnutls --enable-libxml2 --enable-gmp --enable-bzlib --enable-lzma --enable-zlib --enable-libsrt --enable-libssh --enable-libzmq --enable-avisynth --enable-sdl2 --enable-libwebp --enable-libx264 --enable-libx265 --enable-libxvid --enable-libaom --enable-libopenjpeg --enable-libvpx --enable-mediafoundation --enable-libass --enable-libfreetype --enable-libfribidi --enable-libharfbuzz --enable-libvidstab --enable-libvmaf --enable-libzimg --enable-amf --enable-cuda-llvm --enable-cuvid --enable-ffnvcodec --enable-nvdec --enable-nvenc --enable-dxva2 --enable-d3d11va --enable-libvpl --enable-libgme --enable-libopenmpt --enable-libopencore-amrwb --enable-libmp3lame --enable-libtheora --enable-libvo-amrwbenc --enable-libgsm --enable-libopencore-amrnb --enable-libopus --enable-libspeex --enable-libvorbis --enable-librubberband\\n  libavutil      58. 29.100 / 58. 29.100\\n  libavcodec     60. 31.102 / 60. 31.102\\n  libavformat    60. 16.100 / 60. 16.100\\n  libavdevice    60.  3.100 / 60.  3.100\\n  libavfilter     9. 12.100 /  9. 12.100\\n  libswscale      7.  5.100 /  7.  5.100\\n  libswresample   4. 12.100 /  4. 12.100\\n  libpostproc    57.  3.100 / 57.  3.100\\n[mov,mp4,m4a,3gp,3g2,mj2 @ 0000025c579a9740] Detected creation time before 1970, parsing as unix timestamp.\\n    Last message repeated 1 times\\nInput #0, mov,mp4,m4a,3gp,3g2,mj2, from \\'raw-video/Free_Test_Data_15MB_MP4.mp4.mp4\\':\\n  Metadata:\\n    major_brand     : mp42\\n    minor_version   : 512\\n    compatible_brands: mp42\\n    creation_time   : 2022-02-11T18:35:55.000000Z\\n    hd_video        : 0\\n    iTunMOVI        : <?xml version=\"1.0\" encoding=\"UTF-8\"?><!DOCTYPE plist PUBLIC \"-//Apple Computer//DTD PLIST 1.0//EN\"  \"http://www.apple.com/DTDs/PropertyList-1.0.dtd\"><plist version=\"1.0\"><dict></dict></plist>\\n  Duration: 00:00:13.52, start: 0.000000, bitrate: 9344 kb/s\\n  Stream #0:0[0x1](und): Video: h264 (Main) (avc1 / 0x31637661), yuv420p(progressive), 1280x720 [SAR 1:1 DAR 16:9], 9045 kb/s, 25 fps, 25 tbr, 90k tbn (default)\\n    Metadata:\\n      creation_time   : 2022-02-11T18:35:55.000000Z\\n      handler_name    : VideoHandler\\n      vendor_id       : [0][0][0][0]\\n      encoder         : h264\\n  Stream #0:1[0x2](eng): Audio: aac (LC) (mp4a / 0x6134706D), 48000 Hz, stereo, fltp, 319 kb/s (default)\\n    Metadata:\\n      creation_time   : 2022-02-11T18:35:55.000000Z\\n      handler_name    : SoundHandler\\n      vendor_id       : [0][0][0][0]\\nStream mapping:\\n  Stream #0:0 -> #0:0 (h264 (native) -> hevc (libx265))\\n  Stream #0:1 -> #0:1 (aac (native) -> aac (native))\\nPress [q] to stop, [?] for help\\nx265 [info]: HEVC encoder version 3.5+111-c0af18dd5\\nx265 [info]: build info [Windows][GCC 13.2.0][64 bit] 8bit+10bit+12bit\\nx265 [info]: using cpu capabilities: MMX2 SSE2Fast LZCNT SSSE3 SSE4.2 AVX FMA3 BMI2 AVX2\\nx265 [info]: Main profile, Level-3 (Main tier)\\nx265 [info]: Thread pool created using 8 threads\\nx265 [info]: Slices                              : 1\\nx265 [info]: frame threads / pool features       : 3 / wpp(8 rows)\\nx265 [warning]: Source height < 720p; disabling lookahead-slices\\nx265 [info]: Coding QT: max CU size, min CU size : 64 / 8\\nx265 [info]: Residual QT: max TU size, max depth : 32 / 1 inter / 1 intra\\nx265 [info]: ME / range / subpel / merge         : hex / 57 / 1 / 2\\nx265 [info]: Keyframe min / max / scenecut / bias  : 25 / 250 / 40 / 5.00 \\nx265 [info]: Lookahead / bframes / badapt        : 15 / 4 / 0\\nx265 [info]: b-pyramid / weightp / weightb       : 1 / 1 / 0\\nx265 [info]: References / ref-limit  cu / depth  : 2 / on / on\\nx265 [info]: AQ: mode / str / qg-size / cu-tree  : 2 / 1.0 / 32 / 1\\nx265 [info]: Rate Control / qCompress            : CRF-31.0 / 0.60\\nx265 [info]: tools: rd=2 psy-rd=2.00 early-skip rskip mode=1 signhide tmvp\\nx265 [info]: tools: fast-intra strong-intra-smoothing deblock sao\\nOutput #0, mp4, to \\'compressed-video/Free_Test_Data_15MB_MP4.mp4.mp4\\':\\n  Metadata:\\n    major_brand     : mp42\\n    minor_version   : 512\\n    compatible_brands: mp42\\n    iTunMOVI        : <?xml version=\"1.0\" encoding=\"UTF-8\"?><!DOCTYPE plist PUBLIC \"-//Apple Computer//DTD PLIST 1.0//EN\"  \"http://www.apple.com/DTDs/PropertyList-1.0.dtd\"><plist version=\"1.0\"><dict></dict></plist>\\n    hd_video        : 0\\n    encoder         : Lavf60.16.100\\n  Stream #0:0(und): Video: hevc (hev1 / 0x31766568), yuv420p(tv, progressive), 640x480 [SAR 4:3 DAR 16:9], q=2-31, 1000 kb/s, 25 fps, 12800 tbn (default)\\n    Metadata:\\n      creation_time   : 2022-02-11T18:35:55.000000Z\\n      handler_name    : VideoHandler\\n      vendor_id       : [0][0][0][0]\\n      encoder         : Lavc60.31.102 libx265\\n    Side data:\\n      cpb: bitrate max/min/avg: 0/0/0 buffer size: 0 vbv_delay: N/A\\n  Stream #0:1(eng): Audio: aac (LC) (mp4a / 0x6134706D), 48000 Hz, stereo, fltp, 128 kb/s (default)\\n    Metadata:\\n      creation_time   : 2022-02-11T18:35:55.000000Z\\n      handler_name    : SoundHandler\\n      vendor_id       : [0][0][0][0]\\n      encoder         : Lavc60.31.102 aac\\nframe=    0 fps=0.0 q=0.0 size=       0kB time=00:00:00.38 bitrate=   0.9kbits/s dup=1 drop=0 speed=12.9x    \\nframe=    9 fps=0.0 q=38.6 size=       0kB time=00:00:01.64 bitrate=   0.2kbits/s dup=1 drop=0 speed=3.05x    \\nframe=   40 fps= 38 q=38.9 size=       0kB time=00:00:02.88 bitrate=   0.1kbits/s dup=1 drop=0 speed=2.77x    \\nframe=   79 fps= 51 q=38.8 size=       0kB time=00:00:04.50 bitrate=   0.1kbits/s dup=1 drop=0 speed=2.92x    \\nframe=  159 fps= 78 q=38.5 size=       0kB time=00:00:07.63 bitrate=   0.0kbits/s dup=1 drop=0 speed=3.74x    \\nframe=  247 fps= 95 q=28.5 size=       0kB time=00:00:11.17 bitrate=   0.0kbits/s dup=1 drop=0 speed=4.29x    \\n[out#0/mp4 @ 0000025c57ec2c00] video:172kB audio:4kB subtitle:0kB other streams:0kB global headers:2kB muxing overhead: 7.776521%\\nframe=  339 fps=111 q=38.9 Lsize=     190kB time=00:00:13.44 bitrate= 115.7kbits/s dup=2 drop=0 speed=4.39x    \\nx265 [info]: frame I:      2, Avg QP:28.33  kb/s: 2903.00 \\nx265 [info]: frame P:     67, Avg QP:32.93  kb/s: 372.36  \\nx265 [info]: frame B:    270, Avg QP:38.55  kb/s: 15.87   \\nx265 [info]: Weighted P-Frames: Y:0.0% UV:0.0%\\n\\nencoded 339 frames in 3.03s (111.88 fps), 103.36 kb/s, Avg QP:37.37\\n[aac @ 0000025c57a2e7c0] Qavg: 65536.000\\n')"
      ]
     },
     "execution_count": 34,
     "metadata": {},
     "output_type": "execute_result"
    }
   ],
   "source": [
    "#@title Compress video\n",
    "input_file = f'raw-video/{output_filename}'\n",
    "output_file = f'compressed-video/{output_filename}'\n",
    "progress_file = f'log/{output_filename}.txt'\n",
    "\n",
    "# Set the desired video bitrate and quality (adjust as needed)\n",
    "video_bitrate = '1000k'  # 1000k is just an example, you can adjust based on your requirements\n",
    "video_quality = '31' # Range: 2 (best) - 31 (worst)\n",
    "resolution = {\n",
    "    '1080p':'1920:1080',\n",
    "    '720p':'720:480',\n",
    "    '480p':'640:480',\n",
    "    '360p':'480:360',\n",
    "    '240p':'426:240',\n",
    "    '144p':'256:144'\n",
    "} \n",
    "\n",
    "# FFmpeg command to compress the video using H.265 codec\n",
    "ffmpeg_cmd = f'ffmpeg -i {input_file} -vf scale={resolution[\"480p\"]} -b:v {video_bitrate} -vcodec libx265 -crf {video_quality} -preset veryfast -progress {progress_file} {output_file}'\n",
    "\n",
    "# Run the FFmpeg command\n",
    "subprocess.run(ffmpeg_cmd.split(), capture_output=True, text=True)\n"
   ]
  },
  {
   "cell_type": "code",
   "execution_count": 7,
   "id": "c7013814907cd03e",
   "metadata": {
    "ExecuteTime": {
     "end_time": "2023-12-23T03:25:00.895942600Z",
     "start_time": "2023-12-23T03:25:00.847573Z"
    },
    "collapsed": false
   },
   "outputs": [],
   "source": [
    "#@title Authorize Google Drive API\n",
    "creds = None\n",
    "if USE_SERVICE_ACCOUNT:\n",
    "    creds = service_account.Credentials.from_service_account_file(\n",
    "        \"service_account.json\", scopes=SCOPES\n",
    "    )\n",
    "else:\n",
    "    if os.path.exists(TOKEN_FILE):\n",
    "        creds = Credentials.from_authorized_user_file(TOKEN_FILE, SCOPES)\n",
    "    if not creds or not creds.valid:\n",
    "        if creds and creds.expired and creds.refresh_token:\n",
    "            creds.refresh(Request())\n",
    "        else:\n",
    "            flow = InstalledAppFlow.from_client_secrets_file(CREDENTIALS_FILE, SCOPES)\n",
    "            creds = flow.run_local_server(port=0)\n",
    "        with open(TOKEN_FILE, \"w\") as token:\n",
    "            token.write(creds.to_json())\n",
    "service = build(\"drive\", \"v3\", credentials=creds)"
   ]
  },
  {
   "cell_type": "code",
   "execution_count": 38,
   "id": "92a4d6c3b154e73d",
   "metadata": {
    "ExecuteTime": {
     "end_time": "2023-12-23T06:20:12.315352500Z",
     "start_time": "2023-12-23T06:20:11.535699300Z"
    },
    "collapsed": false
   },
   "outputs": [
    {
     "name": "stdout",
     "output_type": "stream",
     "text": [
      "Files:\n",
      "snis-228_Mosaic.mp4 (1-Gksc1nqmUdfR1ER7HBcu0pgEqNkiB9Z)\n",
      "Free_Test_Data_15MB_MP4.mp4 (1-3goBUpthgyqVtFVFs_xc5aFmgapkDqL)\n"
     ]
    }
   ],
   "source": [
    "#@title List files\n",
    "try:\n",
    "    results = (\n",
    "        service.files()\n",
    "        .list(q=f\"'{FOLDER_ID}' in parents and trashed = false\", pageSize=10, fields=\"nextPageToken, files(id, name)\")\n",
    "        .execute()\n",
    "    )\n",
    "    items = results.get(\"files\", [])\n",
    "    if not items:\n",
    "        print(\"No files found.\")\n",
    "    else:\n",
    "        print(\"Files:\")\n",
    "        for item in items:\n",
    "            print(f\"{item['name']} ({item['id']})\")\n",
    "except HttpError as error:\n",
    "    print(f\"An error occurred: {error}\")"
   ]
  },
  {
   "cell_type": "code",
   "execution_count": 9,
   "id": "3cb002d4d5b7ab3d",
   "metadata": {
    "ExecuteTime": {
     "end_time": "2023-12-23T03:25:02.963379400Z",
     "start_time": "2023-12-23T03:25:01.730473600Z"
    },
    "collapsed": false
   },
   "outputs": [
    {
     "ename": "FileNotFoundError",
     "evalue": "[Errno 2] No such file or directory: 'raw-video/$statue.mp4'",
     "output_type": "error",
     "traceback": [
      "\u001b[1;31m---------------------------------------------------------------------------\u001b[0m",
      "\u001b[1;31mFileNotFoundError\u001b[0m                         Traceback (most recent call last)",
      "Cell \u001b[1;32mIn[9], line 5\u001b[0m\n\u001b[0;32m      3\u001b[0m local_video_path \u001b[38;5;241m=\u001b[39m \u001b[38;5;124mf\u001b[39m\u001b[38;5;124m'\u001b[39m\u001b[38;5;124mraw-video/$\u001b[39m\u001b[38;5;132;01m{\u001b[39;00moutput_filename\u001b[38;5;132;01m}\u001b[39;00m\u001b[38;5;124m'\u001b[39m\n\u001b[0;32m      4\u001b[0m file_metadata \u001b[38;5;241m=\u001b[39m {\u001b[38;5;124m\"\u001b[39m\u001b[38;5;124mname\u001b[39m\u001b[38;5;124m\"\u001b[39m: \u001b[38;5;124m\"\u001b[39m\u001b[38;5;124mstatue.mp4\u001b[39m\u001b[38;5;124m\"\u001b[39m, \u001b[38;5;124m\"\u001b[39m\u001b[38;5;124mparents\u001b[39m\u001b[38;5;124m\"\u001b[39m: [FOLDER_ID]}\n\u001b[1;32m----> 5\u001b[0m media \u001b[38;5;241m=\u001b[39m \u001b[43mMediaFileUpload\u001b[49m\u001b[43m(\u001b[49m\u001b[43mlocal_video_path\u001b[49m\u001b[43m,\u001b[49m\u001b[43m \u001b[49m\u001b[43mmimetype\u001b[49m\u001b[38;5;241;43m=\u001b[39;49m\u001b[38;5;124;43m\"\u001b[39;49m\u001b[38;5;124;43mvideo/mp4\u001b[39;49m\u001b[38;5;124;43m\"\u001b[39;49m\u001b[43m)\u001b[49m\n\u001b[0;32m      6\u001b[0m \u001b[38;5;28;01mtry\u001b[39;00m:\n\u001b[0;32m      7\u001b[0m     file \u001b[38;5;241m=\u001b[39m (\n\u001b[0;32m      8\u001b[0m         service\u001b[38;5;241m.\u001b[39mfiles()\n\u001b[0;32m      9\u001b[0m         \u001b[38;5;241m.\u001b[39mcreate(body\u001b[38;5;241m=\u001b[39mfile_metadata, media_body\u001b[38;5;241m=\u001b[39mmedia, fields\u001b[38;5;241m=\u001b[39m\u001b[38;5;124m\"\u001b[39m\u001b[38;5;124mid\u001b[39m\u001b[38;5;124m\"\u001b[39m)\n\u001b[0;32m     10\u001b[0m         \u001b[38;5;241m.\u001b[39mexecute()\n\u001b[0;32m     11\u001b[0m     )\n",
      "File \u001b[1;32m~\\.virtualenvs\\download-compress-py\\lib\\site-packages\\googleapiclient\\_helpers.py:130\u001b[0m, in \u001b[0;36mpositional.<locals>.positional_decorator.<locals>.positional_wrapper\u001b[1;34m(*args, **kwargs)\u001b[0m\n\u001b[0;32m    128\u001b[0m     \u001b[38;5;28;01melif\u001b[39;00m positional_parameters_enforcement \u001b[38;5;241m==\u001b[39m POSITIONAL_WARNING:\n\u001b[0;32m    129\u001b[0m         logger\u001b[38;5;241m.\u001b[39mwarning(message)\n\u001b[1;32m--> 130\u001b[0m \u001b[38;5;28;01mreturn\u001b[39;00m wrapped(\u001b[38;5;241m*\u001b[39margs, \u001b[38;5;241m*\u001b[39m\u001b[38;5;241m*\u001b[39mkwargs)\n",
      "File \u001b[1;32m~\\.virtualenvs\\download-compress-py\\lib\\site-packages\\googleapiclient\\http.py:594\u001b[0m, in \u001b[0;36mMediaFileUpload.__init__\u001b[1;34m(self, filename, mimetype, chunksize, resumable)\u001b[0m\n\u001b[0;32m    592\u001b[0m \u001b[38;5;28mself\u001b[39m\u001b[38;5;241m.\u001b[39m_fd \u001b[38;5;241m=\u001b[39m \u001b[38;5;28;01mNone\u001b[39;00m\n\u001b[0;32m    593\u001b[0m \u001b[38;5;28mself\u001b[39m\u001b[38;5;241m.\u001b[39m_filename \u001b[38;5;241m=\u001b[39m filename\n\u001b[1;32m--> 594\u001b[0m \u001b[38;5;28mself\u001b[39m\u001b[38;5;241m.\u001b[39m_fd \u001b[38;5;241m=\u001b[39m \u001b[38;5;28;43mopen\u001b[39;49m\u001b[43m(\u001b[49m\u001b[38;5;28;43mself\u001b[39;49m\u001b[38;5;241;43m.\u001b[39;49m\u001b[43m_filename\u001b[49m\u001b[43m,\u001b[49m\u001b[43m \u001b[49m\u001b[38;5;124;43m\"\u001b[39;49m\u001b[38;5;124;43mrb\u001b[39;49m\u001b[38;5;124;43m\"\u001b[39;49m\u001b[43m)\u001b[49m\n\u001b[0;32m    595\u001b[0m \u001b[38;5;28;01mif\u001b[39;00m mimetype \u001b[38;5;129;01mis\u001b[39;00m \u001b[38;5;28;01mNone\u001b[39;00m:\n\u001b[0;32m    596\u001b[0m     \u001b[38;5;66;03m# No mimetype provided, make a guess.\u001b[39;00m\n\u001b[0;32m    597\u001b[0m     mimetype, _ \u001b[38;5;241m=\u001b[39m mimetypes\u001b[38;5;241m.\u001b[39mguess_type(filename)\n",
      "\u001b[1;31mFileNotFoundError\u001b[0m: [Errno 2] No such file or directory: 'raw-video/$statue.mp4'"
     ]
    }
   ],
   "source": [
    "#@title copy local video to google drive\n",
    "\n",
    "local_video_path = f'compressed-video/{output_filename}'\n",
    "file_metadata = {\"name\": output_filename, \"parents\": [FOLDER_ID]}\n",
    "media = MediaFileUpload(local_video_path, mimetype=\"video/mp4\")\n",
    "try:\n",
    "    pass\n",
    "    file = (\n",
    "        service.files()\n",
    "        .create(body=file_metadata, media_body=media, fields=\"id\")\n",
    "        .execute()\n",
    "    )\n",
    "\n",
    "    print(f\"File ID: {file.get('id')}\")\n",
    "except HttpError as error:\n",
    "    print(f\"An error occurred: {error}\")"
   ]
  }
 ],
 "metadata": {
  "kernelspec": {
   "display_name": "Python 3",
   "language": "python",
   "name": "python3"
  },
  "language_info": {
   "codemirror_mode": {
    "name": "ipython",
    "version": 3
   },
   "file_extension": ".py",
   "mimetype": "text/x-python",
   "name": "python",
   "nbconvert_exporter": "python",
   "pygments_lexer": "ipython3",
   "version": "3.12.1"
  }
 },
 "nbformat": 4,
 "nbformat_minor": 5
}
