{
 "cells": [
  {
   "cell_type": "code",
   "execution_count": null,
   "id": "initial_id",
   "metadata": {
    "collapsed": false
   },
   "outputs": [],
   "source": [
    "PLAYLIST_URL = \"\"\n",
    "PLAYLIST_PATH = \"\"\n",
    "VIDEO_NAME = \"\"\n",
    "HEADER = \"\""
   ]
  },
  {
   "cell_type": "code",
   "execution_count": null,
   "id": "bb878e0a402acb04",
   "metadata": {
    "collapsed": false
   },
   "outputs": [],
   "source": [
    "%mkdir -p playlist\n",
    "%mkdir -p \"playlist/{VIDEO_NAME}\"\n",
    "import subprocess"
   ]
  },
  {
   "cell_type": "code",
   "execution_count": null,
   "id": "f3d3bfad5f261656",
   "metadata": {
    "collapsed": false
   },
   "outputs": [],
   "source": [
    "# read playlist m3u8\n",
    "video_names = []\n",
    "with open(PLAYLIST_PATH, \"r\") as f:\n",
    "    lines = f.readlines()\n",
    "    \n",
    "    if(lines[0] != \"#EXTM3U\\n\"):\n",
    "        raise Exception(\"Not a valid m3u8 file\")\n",
    "    \n",
    "    HOST_LINK = PLAYLIST_URL[:PLAYLIST_URL.rfind(\"/\")]\n",
    "    lines = lines[1:]\n",
    "    for line in lines:\n",
    "        if(line[0] != \"#\"):\n",
    "            video_name, extension = line.strip().split('.')\n",
    "            !curl \"{HOST_LINK}/{video_name}.{extension}\" -H \"{HEADER}\" --output \"playlist/{VIDEO_NAME}/{video_name}.ts\"\n",
    "            video_names.append(video_name)\n",
    "         "
   ]
  },
  {
   "cell_type": "code",
   "execution_count": null,
   "id": "926fe53fa9f0752f",
   "metadata": {
    "collapsed": false
   },
   "outputs": [],
   "source": [
    "# create list file\n",
    "\n",
    "with open(f\"playlist/{VIDEO_NAME}-list.txt\", \"w\") as f:\n",
    "    for video_name in video_names:\n",
    "        f.write(f\"file '{VIDEO_NAME}/{video_name}.ts'\\n\")\n"
   ]
  },
  {
   "cell_type": "code",
   "execution_count": null,
   "id": "a6b550a632c868e6",
   "metadata": {
    "ExecuteTime": {
     "end_time": "2023-12-24T10:30:05.004350600Z",
     "start_time": "2023-12-24T10:30:04.253354300Z"
    },
    "collapsed": false
   },
   "outputs": [],
   "source": [
    "# merge ts files use ffmpeg\n",
    "ffmpeg_cmd = f\"ffmpeg -f concat -i {VIDEO_NAME}-list.txt -c copy {VIDEO_NAME}.mp4\"\n",
    "subprocess.run(ffmpeg_cmd, shell=True)"
   ]
  }
 ],
 "metadata": {
  "kernelspec": {
   "display_name": "Python 3",
   "language": "python",
   "name": "python3"
  },
  "language_info": {
   "codemirror_mode": {
    "name": "ipython",
    "version": 2
   },
   "file_extension": ".py",
   "mimetype": "text/x-python",
   "name": "python",
   "nbconvert_exporter": "python",
   "pygments_lexer": "ipython2",
   "version": "2.7.6"
  }
 },
 "nbformat": 4,
 "nbformat_minor": 5
}
